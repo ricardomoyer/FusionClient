{
  "nbformat": 4,
  "nbformat_minor": 0,
  "metadata": {
    "colab": {
      "name": "Quicksort Analysis.ipynb",
      "provenance": [],
      "include_colab_link": true
    },
    "kernelspec": {
      "name": "python3",
      "display_name": "Python 3"
    }
  },
  "cells": [
    {
      "cell_type": "markdown",
      "metadata": {
        "id": "view-in-github",
        "colab_type": "text"
      },
      "source": [
        "<a href=\"https://colab.research.google.com/github/ricardomoyer/FusionClient/blob/master/Quicksort_Analysis.ipynb\" target=\"_parent\"><img src=\"https://colab.research.google.com/assets/colab-badge.svg\" alt=\"Open In Colab\"/></a>"
      ]
    },
    {
      "cell_type": "markdown",
      "metadata": {
        "id": "nhK6v_X91ZyA",
        "colab_type": "text"
      },
      "source": [
        "## How does quicksort work?\n",
        "\n",
        "Most popular implementation is explained above:\n",
        "\n",
        "Quicksort is a divide-and-conquer algorithm, which means you will have to divide an array over and over so the problem is easier to solve. One of the most particular characteristics of quicksort algorithm is the use of a pivot. \n",
        "\n",
        "This pivot is chosen differently, depending on the implementation of the algorithm. There are 4 common options to get a pivot.\n",
        "\n",
        "\n",
        "•\tThe left value of an array (at the beginning).\n",
        "\n",
        "•\tThe right value of an array (at the end).\n",
        "\n",
        "•\tBy random choice.\n",
        "\n",
        "•\tUsing the median of the numbers in the array.\n",
        "\n",
        "\n",
        "In this explanation, a random pivot is to be chosen. \n",
        "Let’s suppose the following array:\n",
        "\n",
        "\n",
        "A = [15, 3, 9, 8, 5, 2, 7, 1, 6]\n",
        "\n",
        "\n",
        "Let’s suppose our pivot (randomly selected) was a 7.\n",
        "\n",
        "\n",
        "We want to use this pivot as a reference point. The rules for our pivot is simple:\n",
        "\n",
        "•\t**Numbers that are smaller than our pivot must be at the left of the pivot.**\n",
        "\n",
        "•\t**Numbers that are greater than the pivot must be at the right of the pivot.** \n",
        "\n",
        "\n",
        "We have two index to navigate through the values of the array. Let us imagine two arrows checking weather a value is greater or smaller than our pivot. In this case, this arrow number will be represented as a remarked letter. Our pivot is to be red.\n",
        "A = [15, 3, 1, 8, 5, 2, 7, 9, 6]\n"
      ]
    },
    {
      "cell_type": "markdown",
      "metadata": {
        "id": "WUvahVcLhJm1",
        "colab_type": "text"
      },
      "source": [
        ""
      ]
    },
    {
      "cell_type": "markdown",
      "metadata": {
        "id": "0D2wbyb8fSI1",
        "colab_type": "text"
      },
      "source": [
        "QUICKSORT(A, p,r)\n",
        "\n",
        "     if p < r\n",
        "\n",
        "          then q ← PARTITION(A, p,r)\n",
        "\n",
        "              QUICKSORT(A, p, q − 1)\n",
        "\n",
        "              QUICKSORT(A, q + 1,r)\n",
        "\n",
        "To sort an entire array A, the initial call is \n",
        "\n",
        "QUICKSORT(A, 1,length[A]).\n",
        "\n",
        "Partitioning the array\n",
        "\n",
        "The key to the algorithm is the PARTITION procedure, \n",
        "\n",
        "which rearranges the subarray A[p . .r] in place.\n",
        "\n",
        "PARTITION(A, p,r)\n",
        "\n",
        "      x ← A[r]\n",
        "\n",
        "      i ← p − 1\n",
        "\n",
        "     for j ← p to r − 1\n",
        "\n",
        "         do if A[j] ≤ x\n",
        "\n",
        "             then i ← i + 1\n",
        "\n",
        "                 exchange A[i] ↔ A[j]\n",
        "\n",
        "     exchange A[i + 1] ↔ A[r]\n",
        "\n",
        "     return i + 1"
      ]
    },
    {
      "cell_type": "code",
      "metadata": {
        "id": "6oc5Dm8KalUO",
        "colab_type": "code",
        "colab": {}
      },
      "source": [
        "# Hace fa\n",
        "\n",
        "def quicksort(i_izq, i_der, L):\n",
        "    # definimos los índices y calculamos el pivote\n",
        "    indice_izq = i_izq\n",
        "    indice_der = i_der    \n",
        "\n",
        "    '''\n",
        "    AQUÍ PUEDE VARIAR LA IMPLEMENTACIÓN DEL PIVOTE\n",
        "    '''\n",
        "    pivote = (L[indice_izq] + L[indice_der]) // 2\n",
        "    #print(\"Pivot:\",pivote)\n",
        "\n",
        "    # iteramos hasta que indice_izq (sea mayor) no sea menor que indice_der\n",
        "    while indice_izq < indice_der:\n",
        "        # iteramos mientras que el valor de L[indice_izq] sea menor que pivote\n",
        "\n",
        "        ''' AQUI ESTAMOS BUSCANDO EL NUMERO MAYOR AL PIVOTE POR LA IZQUIERDA '''\n",
        "        while L[indice_izq] < pivote:\n",
        "            # aumentamos el indice hasta encontrar el valor\n",
        "            indice_izq+=1\n",
        "\n",
        "        ''' AQUI ESTAMOS BUSCANDO EL NUMERO MENOR AL PIVOTE POR LA DERECHA '''\n",
        "        while L[indice_der] > pivote:\n",
        "            # reducimos el indice hasta encontrar el valor\n",
        "            indice_der-=1\n",
        "        \n",
        "        # si indice_izq es menor o igual que indice_der significa que los índices se han cruzado\n",
        "        if indice_izq <= indice_der:\n",
        "            # creamos una variable temporal para guardar el valor de L[indice_der]\n",
        "            x = L[indice_der]\n",
        "            # intercambiamos los valores de L[indice_der] y L[indice_izq]\n",
        "            L[indice_der] = L[indice_izq]\n",
        "            L[indice_izq] = x\n",
        "            # incrementamos y decrementamos indice_izq y indice_der respectivamente\n",
        "            indice_izq+=1\n",
        "            indice_der-=1\n",
        "\n",
        "    # si i_izq es menor que indice_der mantenemos la recursividad\n",
        "    if i_izq < indice_der:\n",
        "        L = quicksort(i_izq, indice_der, L)\n",
        "    # si i_der es mayor que indice_izq mantenemos la recursividad\n",
        "    if i_der > indice_izq:\n",
        "        L = quicksort(indice_izq, i_der, L)\n",
        "\n",
        "    # devolvemos la lista ordenada\n",
        "    return L"
      ],
      "execution_count": 0,
      "outputs": []
    },
    {
      "cell_type": "markdown",
      "metadata": {
        "id": "jS8Jg-5hLDop",
        "colab_type": "text"
      },
      "source": [
        "# Complexity Analysis"
      ]
    },
    {
      "cell_type": "markdown",
      "metadata": {
        "id": "HjFtXrEWboja",
        "colab_type": "text"
      },
      "source": [
        "### BEST case\n",
        "\n",
        "Supposing that we always chose a bad pivot to make the partitions (that means, the number is the smallest or greatest number in the array). Every time the recursion is made, it will go through n-1 elements of the previews array.\n",
        "\n",
        "The time it will take can be represented with the next formula\n",
        "\n",
        "c((n+1)(n/2)-1) = O(n^2)\n",
        "\n",
        "\n",
        "[Image](https://cdn.kastatic.org/ka-perseus-images/21cd0d70813845d67fbb11496458214f90ad7cb8.png)\n",
        "\n"
      ]
    },
    {
      "cell_type": "markdown",
      "metadata": {
        "id": "2_df6gT4LHcC",
        "colab_type": "text"
      },
      "source": [
        "### WORST case\n",
        "\n",
        "On the other hand, the best case will take place when every time the partitions are made, each half of it is balanced as much as it can be. So every in every recursive step the new size of the array to sort will have (n-1)/2 elements. This may vary if the array have odd or even number of elements. \n",
        "In any case, it will be  O(n log_2(n))\n",
        "\n",
        "\n",
        "[Another image](https://cdn.kastatic.org/ka-perseus-images/7da2ac32779bef669a6f05decb62f219a9132158.png)\n",
        "\n",
        "\n"
      ]
    },
    {
      "cell_type": "markdown",
      "metadata": {
        "id": "nxEDbIWYcS8w",
        "colab_type": "text"
      },
      "source": [
        "### AVERAGE case\n",
        "\n",
        "We will make some assumptions here, but in a brief way, the average case will still be O(n*log_2(n)), because even if the partitions are unbalanced after partitioning, the side with the fewest elements will end up with a size 1 array in fewer steps than the side with the most elements. In any case, the difference in steps would be c, so for the O() notation this would not mean a change in its growth rate\n",
        "[Another one](https://cdn.kastatic.org/ka-perseus-images/130b2d2a1fe897253def054f4c3aa7bd94cb6cf2.png)"
      ]
    },
    {
      "cell_type": "markdown",
      "metadata": {
        "id": "RUWUmhJq4Ssf",
        "colab_type": "text"
      },
      "source": [
        "# Implementation "
      ]
    },
    {
      "cell_type": "code",
      "metadata": {
        "id": "X6PfNz6s4iO6",
        "colab_type": "code",
        "colab": {}
      },
      "source": [
        "import matplotlib.pyplot as plt\n",
        "import numpy as np\n",
        "import time\n",
        "from functools import partial\n",
        "import pandas as pd"
      ],
      "execution_count": 0,
      "outputs": []
    },
    {
      "cell_type": "code",
      "metadata": {
        "id": "gw86NXIQ44fP",
        "colab_type": "code",
        "outputId": "bb3df5d0-3deb-481f-d6b0-c00c1f232bca",
        "colab": {
          "base_uri": "https://localhost:8080/",
          "height": 53
        }
      },
      "source": [
        "# We use a seed to always generate the same k\n",
        "np.random.seed(1)\n",
        "\n",
        "random_list_for_tests = np.random.randint(1,5000,15)\n",
        "print(random_list_for_tests)"
      ],
      "execution_count": 0,
      "outputs": [
        {
          "output_type": "stream",
          "text": [
            "[ 236 3981  906 2764 2896  145 4226 2798 3463 1203 4454 2963 2517  253\n",
            " 3563]\n"
          ],
          "name": "stdout"
        }
      ]
    },
    {
      "cell_type": "code",
      "metadata": {
        "id": "xS_twIyd4-ib",
        "colab_type": "code",
        "outputId": "b5635c0f-b0c4-4b9e-ac44-97e481f4c287",
        "colab": {
          "base_uri": "https://localhost:8080/",
          "height": 53
        }
      },
      "source": [
        "# Test quicksort Algorithm\n",
        "print(quicksort(0,len(random_list_for_tests.copy())-1, random_list_for_tests.copy()))"
      ],
      "execution_count": 0,
      "outputs": [
        {
          "output_type": "stream",
          "text": [
            "[ 145  236  253  906 1203 2517 2764 2798 2896 2963 3463 3563 3981 4226\n",
            " 4454]\n"
          ],
          "name": "stdout"
        }
      ]
    },
    {
      "cell_type": "markdown",
      "metadata": {
        "id": "P8jGuaeY5Wn1",
        "colab_type": "text"
      },
      "source": [
        "## Time calculator function"
      ]
    },
    {
      "cell_type": "code",
      "metadata": {
        "id": "4C5ZrCpV5bhm",
        "colab_type": "code",
        "colab": {}
      },
      "source": [
        "sortings = {\n",
        "    'quicksort': quicksort\n",
        "}\n",
        "\n",
        "\n",
        "def calculate_runtimes(range_of_x, repetitions, sorting_method):\n",
        "    # Partial function that generates lists of n lenght\n",
        "    np.random.seed(1)\n",
        "    random_list_n = partial(np.random.randint, 1,5000)\n",
        "    \n",
        "    # to keep track of the durations\n",
        "    duration = []\n",
        "    \n",
        "    # TO CALCULATE THE TIME FOR EVERY VALUE OF N\n",
        "    for n in range_of_x:\n",
        "        #the mean in a given value of n\n",
        "        mean_duration = []\n",
        "        \n",
        "        # generate a random list of size n\n",
        "        np.random.seed(1)\n",
        "        list_of_size_n = random_list_n(n)\n",
        "        \n",
        "        # TO TAKE THE MEAN OF THE TIME OF A GIVEN VALUE OF N\n",
        "        for i in range(repetitions):\n",
        "            start = time.time()\n",
        "            sortings[sorting_method](0, len(list_of_size_n)-1, list_of_size_n)        \n",
        "            end = time.time()\n",
        "            mean_duration.append(end-start)\n",
        "\n",
        "        # the mean of the time in the loop above\n",
        "        duration.append(np.array(mean_duration).mean())\n",
        "    return duration"
      ],
      "execution_count": 0,
      "outputs": []
    },
    {
      "cell_type": "markdown",
      "metadata": {
        "id": "MG-Jvy0Q59E9",
        "colab_type": "text"
      },
      "source": [
        "## Running Time"
      ]
    },
    {
      "cell_type": "code",
      "metadata": {
        "id": "XZxMqb5N6DSg",
        "colab_type": "code",
        "colab": {}
      },
      "source": [
        "# Defining the intervals\n",
        "lower_size_of_list = 200\n",
        "upper_size_of_list = 3000\n",
        "size_of_step = 14\n",
        "\n",
        "# Range of 'n' to generate lists of size n\n",
        "x = np.linspace(lower_size_of_list, upper_size_of_list, size_of_step, dtype=int)\n",
        "\n",
        "# to calculate the mean\n",
        "number_of_repetitions=5\n",
        "\n",
        "# partial function that keeps the same values every time\n",
        "calc_run = partial(calculate_runtimes, x, number_of_repetitions)"
      ],
      "execution_count": 0,
      "outputs": []
    },
    {
      "cell_type": "code",
      "metadata": {
        "id": "kE6lzyYo6LQT",
        "colab_type": "code",
        "colab": {}
      },
      "source": [
        "quicksort_duration = calc_run('quicksort')"
      ],
      "execution_count": 0,
      "outputs": []
    },
    {
      "cell_type": "code",
      "metadata": {
        "id": "M2pg6jO-6TJp",
        "colab_type": "code",
        "outputId": "e4806643-89cc-4d8d-e59e-14df87ad11b5",
        "colab": {
          "base_uri": "https://localhost:8080/",
          "height": 488
        }
      },
      "source": [
        "pd.DataFrame(data={'size': x,\n",
        "                    'QuickSort':quicksort_duration\n",
        "                  })"
      ],
      "execution_count": 0,
      "outputs": [
        {
          "output_type": "execute_result",
          "data": {
            "text/html": [
              "<div>\n",
              "<style scoped>\n",
              "    .dataframe tbody tr th:only-of-type {\n",
              "        vertical-align: middle;\n",
              "    }\n",
              "\n",
              "    .dataframe tbody tr th {\n",
              "        vertical-align: top;\n",
              "    }\n",
              "\n",
              "    .dataframe thead th {\n",
              "        text-align: right;\n",
              "    }\n",
              "</style>\n",
              "<table border=\"1\" class=\"dataframe\">\n",
              "  <thead>\n",
              "    <tr style=\"text-align: right;\">\n",
              "      <th></th>\n",
              "      <th>size</th>\n",
              "      <th>QuickSort</th>\n",
              "    </tr>\n",
              "  </thead>\n",
              "  <tbody>\n",
              "    <tr>\n",
              "      <th>0</th>\n",
              "      <td>200</td>\n",
              "      <td>0.001535</td>\n",
              "    </tr>\n",
              "    <tr>\n",
              "      <th>1</th>\n",
              "      <td>415</td>\n",
              "      <td>0.001687</td>\n",
              "    </tr>\n",
              "    <tr>\n",
              "      <th>2</th>\n",
              "      <td>630</td>\n",
              "      <td>0.002547</td>\n",
              "    </tr>\n",
              "    <tr>\n",
              "      <th>3</th>\n",
              "      <td>846</td>\n",
              "      <td>0.003790</td>\n",
              "    </tr>\n",
              "    <tr>\n",
              "      <th>4</th>\n",
              "      <td>1061</td>\n",
              "      <td>0.004326</td>\n",
              "    </tr>\n",
              "    <tr>\n",
              "      <th>5</th>\n",
              "      <td>1276</td>\n",
              "      <td>0.005330</td>\n",
              "    </tr>\n",
              "    <tr>\n",
              "      <th>6</th>\n",
              "      <td>1492</td>\n",
              "      <td>0.006045</td>\n",
              "    </tr>\n",
              "    <tr>\n",
              "      <th>7</th>\n",
              "      <td>1707</td>\n",
              "      <td>0.007138</td>\n",
              "    </tr>\n",
              "    <tr>\n",
              "      <th>8</th>\n",
              "      <td>1923</td>\n",
              "      <td>0.009116</td>\n",
              "    </tr>\n",
              "    <tr>\n",
              "      <th>9</th>\n",
              "      <td>2138</td>\n",
              "      <td>0.009830</td>\n",
              "    </tr>\n",
              "    <tr>\n",
              "      <th>10</th>\n",
              "      <td>2353</td>\n",
              "      <td>0.009296</td>\n",
              "    </tr>\n",
              "    <tr>\n",
              "      <th>11</th>\n",
              "      <td>2569</td>\n",
              "      <td>0.011889</td>\n",
              "    </tr>\n",
              "    <tr>\n",
              "      <th>12</th>\n",
              "      <td>2784</td>\n",
              "      <td>0.012469</td>\n",
              "    </tr>\n",
              "    <tr>\n",
              "      <th>13</th>\n",
              "      <td>3000</td>\n",
              "      <td>0.012928</td>\n",
              "    </tr>\n",
              "  </tbody>\n",
              "</table>\n",
              "</div>"
            ],
            "text/plain": [
              "    size  QuickSort\n",
              "0    200   0.001535\n",
              "1    415   0.001687\n",
              "2    630   0.002547\n",
              "3    846   0.003790\n",
              "4   1061   0.004326\n",
              "5   1276   0.005330\n",
              "6   1492   0.006045\n",
              "7   1707   0.007138\n",
              "8   1923   0.009116\n",
              "9   2138   0.009830\n",
              "10  2353   0.009296\n",
              "11  2569   0.011889\n",
              "12  2784   0.012469\n",
              "13  3000   0.012928"
            ]
          },
          "metadata": {
            "tags": []
          },
          "execution_count": 20
        }
      ]
    },
    {
      "cell_type": "code",
      "metadata": {
        "id": "aPZMRcY-6ZXM",
        "colab_type": "code",
        "outputId": "5d27c37f-fe25-49d0-9a45-4d11ea0da50a",
        "colab": {
          "base_uri": "https://localhost:8080/",
          "height": 283
        }
      },
      "source": [
        "plt.plot(x, quicksort_duration, label='quicksort, Θ(n log n) Best Case')\n",
        "plt.legend()"
      ],
      "execution_count": 0,
      "outputs": [
        {
          "output_type": "execute_result",
          "data": {
            "text/plain": [
              "<matplotlib.legend.Legend at 0x7f34b3812b38>"
            ]
          },
          "metadata": {
            "tags": []
          },
          "execution_count": 21
        },
        {
          "output_type": "display_data",
          "data": {
            "image/png": "[encoded data removed]",
            "text/plain": [
              "<Figure size 432x288 with 1 Axes>"
            ]
          },
          "metadata": {
            "tags": []
          }
        }
      ]
    },
    {
      "cell_type": "code",
      "metadata": {
        "id": "TGdBHi-sqplx",
        "colab_type": "code",
        "colab": {}
      },
      "source": [
        ""
      ],
      "execution_count": 0,
      "outputs": []
    }
  ]
}